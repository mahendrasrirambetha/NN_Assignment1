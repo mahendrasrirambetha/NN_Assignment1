{
  "nbformat": 4,
  "nbformat_minor": 0,
  "metadata": {
    "colab": {
      "provenance": [],
      "authorship_tag": "ABX9TyOhsPsBQJM1qhHCe9R9fRzx",
      "include_colab_link": true
    },
    "kernelspec": {
      "name": "python3",
      "display_name": "Python 3"
    },
    "language_info": {
      "name": "python"
    }
  },
  "cells": [
    {
      "cell_type": "markdown",
      "metadata": {
        "id": "view-in-github",
        "colab_type": "text"
      },
      "source": [
        "<a href=\"https://colab.research.google.com/github/mahendrasrirambetha/NN_Assignment1/blob/main/NN_Assignment1.ipynb\" target=\"_parent\"><img src=\"https://colab.research.google.com/assets/colab-badge.svg\" alt=\"Open In Colab\"/></a>"
      ]
    },
    {
      "cell_type": "code",
      "execution_count": null,
      "metadata": {
        "colab": {
          "base_uri": "https://localhost:8080/"
        },
        "id": "gQmNHmizHadd",
        "outputId": "60f66c53-2675-4e52-b5ab-acadf90ddd9d"
      },
      "outputs": [
        {
          "output_type": "stream",
          "name": "stdout",
          "text": [
            "Enter the string :python\n",
            "<class 'str'>\n",
            "['p', 'y', 't', 'h', 'o', 'n']\n",
            "['p', 'y', 'o', 'n']\n",
            "noyp\n"
          ]
        }
      ],
      "source": [
        "\n",
        "# Write a python program for the following:\n",
        "#Input the string “Python” as a list of characters from console, delete at least 2 characters, reversethe resultant string and print it.\n",
        "\n",
        "s1 = input(\"Enter the string :\")\n",
        "s2 =list(s1.strip())\n",
        "print(type(s1))\n",
        "print(s2)\n",
        "s2.pop(-3)\n",
        "s2.pop(-3)\n",
        "print(s2)\n",
        "s2.reverse()\n",
        "s1 = ''.join(s2)\n",
        "print(s1)\n",
        "\n",
        "\n",
        "\n",
        "\n"
      ]
    },
    {
      "cell_type": "code",
      "source": [
        "#Take two numbers from user and perform at least 4 arithmetic operations on them.\n",
        "\n",
        "num1 = int(input(\"Enter the first number: \")) # user input1\n",
        "num2 = int(input(\"Enter the second number: \")) # user input2\n",
        "\n",
        "#Printing the result for 4 arithmetic operations\n",
        "print(\"Addition: \",num1+num2) # simple Addition\n",
        "print(\"Subraction: \", num1 - num2) # Subraction\n",
        "print(\"Division: \",num1/num2) # simple Division\n",
        "print(\"Floor Division: \",num1// num2) # floor Division\n"
      ],
      "metadata": {
        "colab": {
          "base_uri": "https://localhost:8080/"
        },
        "id": "1F3tBe4cHl9i",
        "outputId": "f9c025a6-2326-4be5-f380-1bfcd7821cb6"
      },
      "execution_count": null,
      "outputs": [
        {
          "output_type": "stream",
          "name": "stdout",
          "text": [
            "Enter the first number: 10\n",
            "Enter the second number: 2\n",
            "Addition:  12\n",
            "Division:  5.0\n",
            "Floor Division:  5\n",
            "Subraction:  8\n"
          ]
        }
      ]
    },
    {
      "cell_type": "code",
      "source": [
        "#Write a program that accepts a sentence and replace each occurrence of ‘python’ with ‘pythons’.\n",
        "# declaring a string variable\n",
        "temp = input(\"Enter the sentence :\")\n",
        "\n",
        "# replacing string python with pythons\n",
        "temp = temp.replace('python', 'pythons')\n",
        "print(\"Updated string is : \")\n",
        "print(temp)"
      ],
      "metadata": {
        "colab": {
          "base_uri": "https://localhost:8080/"
        },
        "id": "PlCpBxnlHmLE",
        "outputId": "4094efb7-be3b-4f0e-abfa-8b2b80b0256a"
      },
      "execution_count": 14,
      "outputs": [
        {
          "output_type": "stream",
          "name": "stdout",
          "text": [
            "Enter the sentence :my name is python\n",
            "Updated string is : \n",
            "my name is pythons\n"
          ]
        }
      ]
    },
    {
      "cell_type": "code",
      "source": [
        "\n",
        "#Use the if statement conditions to write a program to print the letter grade based on an input class score. Use the grading scheme we are using in this class.\n",
        "\n",
        "marks = int(input(\"Enter the marks of the person: \"))\n",
        "if marks >= 90:\n",
        "    print(\"A grade\")\n",
        "elif marks >=80:\n",
        "    print(\"B grade\")\n",
        "elif marks >=70:\n",
        "    print(\"C grade\")\n",
        "elif marks >= 60:\n",
        "    print(\"D grade\")\n",
        "else:\n",
        "    print(\"Fail grade\")"
      ],
      "metadata": {
        "colab": {
          "base_uri": "https://localhost:8080/"
        },
        "id": "pfFKPA8SHsbl",
        "outputId": "6f9a3dc3-6f0c-42ad-ab75-c40ad5041e1c"
      },
      "execution_count": 17,
      "outputs": [
        {
          "output_type": "stream",
          "name": "stdout",
          "text": [
            "Enter the marks of the person: 87\n",
            "B grade\n"
          ]
        }
      ]
    }
  ]
}